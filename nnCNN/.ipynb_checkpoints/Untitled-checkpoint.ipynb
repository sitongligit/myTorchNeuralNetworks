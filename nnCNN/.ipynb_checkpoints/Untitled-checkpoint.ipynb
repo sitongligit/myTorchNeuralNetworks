{
 "cells": [
  {
   "cell_type": "code",
   "execution_count": 4,
   "metadata": {
    "collapsed": false
   },
   "outputs": [
    {
     "ename": "[string \"path = require 'pl.path'...\"]:6: attempt to call field 'concat' (a nil value)\nstack traceback:\n\t[string \"path = require 'pl.path'...\"]:6: in main chunk\n\t[C]: in function 'xpcall'\n\t...s/josemarcos/torch/install/share/lua/5.1/itorch/main.lua:179: in function <...s/josemarcos/torch/install/share/lua/5.1/itorch/main.lua:143>\n\t...s/josemarcos/torch/install/share/lua/5.1/lzmq/poller.lua:75: in function 'poll'\n\t...osemarcos/torch/install/share/lua/5.1/lzmq/impl/loop.lua:307: in function 'poll'\n\t...osemarcos/torch/install/share/lua/5.1/lzmq/impl/loop.lua:325: in function 'sleep_ex'\n\t...osemarcos/torch/install/share/lua/5.1/lzmq/impl/loop.lua:370: in function 'start'\n\t...s/josemarcos/torch/install/share/lua/5.1/itorch/main.lua:350: in main chunk\n\t[C]: in function 'require'\n\t[string \"arg={'/Users/josemarcos/Library/Jupyter/runti...\"]:1: in main chunk",
     "evalue": "",
     "output_type": "error",
     "traceback": [
      "[string \"path = require 'pl.path'...\"]:6: attempt to call field 'concat' (a nil value)\nstack traceback:\n\t[string \"path = require 'pl.path'...\"]:6: in main chunk\n\t[C]: in function 'xpcall'\n\t...s/josemarcos/torch/install/share/lua/5.1/itorch/main.lua:179: in function <...s/josemarcos/torch/install/share/lua/5.1/itorch/main.lua:143>\n\t...s/josemarcos/torch/install/share/lua/5.1/lzmq/poller.lua:75: in function 'poll'\n\t...osemarcos/torch/install/share/lua/5.1/lzmq/impl/loop.lua:307: in function 'poll'\n\t...osemarcos/torch/install/share/lua/5.1/lzmq/impl/loop.lua:325: in function 'sleep_ex'\n\t...osemarcos/torch/install/share/lua/5.1/lzmq/impl/loop.lua:370: in function 'start'\n\t...s/josemarcos/torch/install/share/lua/5.1/itorch/main.lua:350: in main chunk\n\t[C]: in function 'require'\n\t[string \"arg={'/Users/josemarcos/Library/Jupyter/runti...\"]:1: in main chunk"
     ]
    }
   ],
   "source": [
    "path = require 'pl.path'\n",
    "\n",
    "current_dir = lfs.currentdir()\n",
    "io.read()\n",
    "\n",
    "Loader = require paths.concat(current_dir,'utils/LoaderMNIST')\n",
    "CM = require paths.concat(current_dir,'utils/ConfusionMatrix')\n",
    "CNN = require 'nnCNN'\n",
    "require 'image'\n",
    "require 'xlua'\n",
    "require 'nn'\n",
    "\n",
    "\n",
    "-- laod model\n",
    "local checkpoint = torch.load('./checkpoints/cnn_test_epoch=5_acc=0.1995.t7')\n",
    "local opt = checkpoint.opt\n",
    "local nnet = checkpoint.model.nnet\n",
    "local criterion = checkpoint.model.criterion\n",
    "\n",
    "-- create the model\n",
    "model = {}\n",
    "model.nnet = nnet\n",
    "model.criterion = criterion\n",
    "\n",
    "-- create loader\n",
    "opt.data_dir = '/Users/josemarcos/Desktop/myTorchNeuralNetworks/data'\n",
    "local loader = Loader.new(opt.batch_size, opt.data_dir)\n",
    "\n",
    "\n",
    "\n",
    "\n",
    "-- load confusion matrix class for evaluations\n",
    "local classes = {'1','2','3','4','5','6','7','8','9','10'}\n",
    "local cm = CM.new(classes)\n",
    "\n",
    "all_targets = {}\n",
    "all_probs = {}\n",
    "\n",
    "-- test and create confusion matrix\n",
    "for i = 1,50 do\n",
    "    xlua.progress(i,50)\n",
    "    inputs, targets = loader:nextValidation()\n",
    "    predictions_probs = nnet:forward(inputs)\n",
    "    predictions, pred_classes = torch.max(predictions_probs,1)\n",
    "    pred_classes = pred_classes:squeeze()\n",
    "\n",
    "    -- convert predictions and targets to a table of strings\n",
    "    splitter = nn.SplitTable(1, pred_classes:size(1))\n",
    "    pred_classes = splitter:forward(pred_classes)\n",
    "    targets = splitter:forward(targets)\n",
    "\n",
    "    for i = 1, inputs:size(1) do\n",
    "        image.display(inputs[i]:reshape(32,32))\n",
    "        print(targets[i])\n",
    "        io.read()\n",
    "    end\n",
    "\n",
    "    for i = 1, #pred_classes do\n",
    "        pred_classes[i] = tostring(pred_classes[i])\n",
    "        targets[i] = tostring(targets[i])\n",
    "\n",
    "        -- append to draw ROC curves\n",
    "        all_targets[#all_targets+1] = targets[i]\n",
    "        all_probs[#all_probs+1] = predictions_probs[i] \n",
    "    end\n",
    "\n",
    "    cm:feedMatrix(pred_classes, targets)\n",
    "end\n",
    "\n",
    "cm:computeMetrics()\n",
    "print(cm:getMatrix())\n"
   ]
  },
  {
   "cell_type": "code",
   "execution_count": null,
   "metadata": {
    "collapsed": true
   },
   "outputs": [],
   "source": []
  }
 ],
 "metadata": {
  "kernelspec": {
   "display_name": "iTorch",
   "language": "lua",
   "name": "itorch"
  },
  "language_info": {
   "name": "lua",
   "version": "20100"
  }
 },
 "nbformat": 4,
 "nbformat_minor": 0
}
